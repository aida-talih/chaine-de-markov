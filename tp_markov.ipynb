{
 "cells": [
  {
   "cell_type": "code",
   "execution_count": 289,
   "id": "persistent-acrylic",
   "metadata": {},
   "outputs": [],
   "source": [
    "from bs4 import BeautifulSoup\n",
    "from urllib.request import urlopen\n",
    "import string\n",
    "import numpy as np\n",
    "import re"
   ]
  },
  {
   "cell_type": "markdown",
   "id": "foreign-young",
   "metadata": {},
   "source": [
    "### Recherche de dataset:"
   ]
  },
  {
   "cell_type": "code",
   "execution_count": 337,
   "id": "unauthorized-fleet",
   "metadata": {},
   "outputs": [],
   "source": [
    "html=urlopen( \"https://fr.wikipedia.org/wiki/Rabat\" ).read()\n",
    "html2=urlopen( \"https://fr.wikipedia.org/wiki/Hay_Ryad\" ).read()"
   ]
  },
  {
   "cell_type": "code",
   "execution_count": 338,
   "id": "white-blackjack",
   "metadata": {},
   "outputs": [],
   "source": [
    "clean_text=' '.join(BeautifulSoup(html, \"html.parser\" ).stripped_strings )\n",
    "clean_text2=' '.join(BeautifulSoup(html2, \"html.parser\" ).stripped_strings )"
   ]
  },
  {
   "cell_type": "markdown",
   "id": "operating-spouse",
   "metadata": {},
   "source": [
    "### prétraitement de dataset"
   ]
  },
  {
   "cell_type": "code",
   "execution_count": 339,
   "id": "injured-aircraft",
   "metadata": {},
   "outputs": [],
   "source": [
    "lower_text=clean_text.lower()\n",
    "lower_text2=clean_text2.lower()"
   ]
  },
  {
   "cell_type": "code",
   "execution_count": 340,
   "id": "electrical-acoustic",
   "metadata": {},
   "outputs": [],
   "source": [
    "def remove_numbers(string):\n",
    "    regex = re.compile(r\"(\\d|[\\u0660\\u0661\\u0662\\u0663\\u0664\\u0665\\u0666\\u0667\\u0668\\u0669])+\")\n",
    "    return re.sub(regex, ' ', string)"
   ]
  },
  {
   "cell_type": "code",
   "execution_count": 341,
   "id": "forty-nancy",
   "metadata": {},
   "outputs": [],
   "source": [
    "def Clean_Text(string):\n",
    "    return re.sub('[^a-z]', '', string).strip()"
   ]
  },
  {
   "cell_type": "code",
   "execution_count": 342,
   "id": "turned-officer",
   "metadata": {},
   "outputs": [],
   "source": [
    "def remove_extra_whitespace(string):\n",
    "    string = re.sub(r'\\s+', ' ', string)\n",
    "    return re.sub(r\"\\s{2,}\", \" \", string).strip()"
   ]
  },
  {
   "cell_type": "code",
   "execution_count": 389,
   "id": "worthy-concern",
   "metadata": {},
   "outputs": [],
   "source": [
    "def remove_urls(string):\n",
    "    regex = re.compile(r\"(http|https|ftp)://(?:[a-zA-Z]|[0-9]|[$-_@.&+]|[!*\\(\\),]|(?:%[0-9a-fA-F][0-9a-fA-F]))+\")\n",
    "    return re.sub(regex, ' ', string)"
   ]
  },
  {
   "cell_type": "code",
   "execution_count": 395,
   "id": "subtle-monte",
   "metadata": {},
   "outputs": [],
   "source": [
    "out =remove_urls(lower_text)\n",
    "out2 =remove_urls(lower_text2)\n",
    "\n",
    "out = lower_text.translate(str.maketrans('', '', string.punctuation))\n",
    "out2 = lower_text2.translate(str.maketrans('', '', string.punctuation))"
   ]
  },
  {
   "cell_type": "code",
   "execution_count": 397,
   "id": "accessory-interpretation",
   "metadata": {},
   "outputs": [],
   "source": [
    "out=re.sub('[^a-z-\\s]', '', out).strip()  #Rabat\n",
    "out=re.sub(r\"\\s{2,}\", \" \", out).strip()\n",
    "\n",
    "out2=re.sub('[^a-z-\\s]', '', out2).strip()   #Hay riad\n",
    "out2=re.sub(r\"\\s{2,}\", \" \", out2).strip()\n",
    "\n",
    "out3=re.sub('[^a-z]', '', out).strip()  "
   ]
  },
  {
   "cell_type": "markdown",
   "id": "functional-ethnic",
   "metadata": {},
   "source": [
    "### Etape 1 : Modélisation du texte comme succession de lettres (Chaine de Markov d’ordre 1) :"
   ]
  },
  {
   "cell_type": "code",
   "execution_count": 398,
   "id": "effective-conditioning",
   "metadata": {},
   "outputs": [],
   "source": [
    "def indicelettre(lettre):\n",
    "    if((ord(lettre) >96 and ord(lettre)<=122) or lettre==\" \" ):\n",
    "        if(lettre==\" \"):\n",
    "            return 0\n",
    "        else:\n",
    "            asci=ord(lettre)-96\n",
    "            return asci\n",
    "    else:\n",
    "        return -1"
   ]
  },
  {
   "cell_type": "code",
   "execution_count": 399,
   "id": "changing-bidder",
   "metadata": {},
   "outputs": [],
   "source": [
    "def incrementer(text):\n",
    "    matrice=np.zeros((27,27))\n",
    "    for i in range(0,len(text)-1):\n",
    "        if(indicelettre(text[i])==-1):\n",
    "            i=i+1\n",
    "        else:\n",
    "            if(indicelettre(text[i+1])==-1):\n",
    "                i=i+1\n",
    "            else:\n",
    "                matrice[indicelettre(text[i])][indicelettre(text[i+1])]=matrice[indicelettre(text[i])][indicelettre(text[i+1])]+1\n",
    "    return matrice      "
   ]
  },
  {
   "cell_type": "code",
   "execution_count": 400,
   "id": "lined-invitation",
   "metadata": {},
   "outputs": [],
   "source": [
    "def addition(m):\n",
    "    compteur=np.zeros(len(m))\n",
    "    for i in range(0,len(m)):\n",
    "            compteur[i]=sum(m[i])\n",
    "    return compteur"
   ]
  },
  {
   "cell_type": "code",
   "execution_count": 401,
   "id": "integrated-behalf",
   "metadata": {},
   "outputs": [],
   "source": [
    "def probabilite(out):\n",
    "    m=incrementer(out)\n",
    "    comp=addition(m)\n",
    "    return m/comp"
   ]
  },
  {
   "cell_type": "markdown",
   "id": "original-encyclopedia",
   "metadata": {},
   "source": [
    "### Etape 2 : Tester la performence de votre modèle :"
   ]
  },
  {
   "cell_type": "code",
   "execution_count": 402,
   "id": "checked-insulation",
   "metadata": {},
   "outputs": [],
   "source": [
    "def fraction_global(text):\n",
    "    tentative=np.zeros((27,27))\n",
    "    p=np.zeros((27,27))\n",
    "    p=probabilite(text)\n",
    "    score=np.zeros((27,27))\n",
    "    matrice=np.zeros((27,27))\n",
    "    for i in range(0,len(text)-1):\n",
    "        if(indicelettre(text[i])==-1):\n",
    "            i=i+1\n",
    "        else:\n",
    "            if(indicelettre(text[i+1])==-1):\n",
    "                i=i+1\n",
    "            else:\n",
    "                score[indicelettre(text[i])][indicelettre(text[i+1])]=score[indicelettre(text[i])][indicelettre(text[i+1])]+p[indicelettre(text[i])][indicelettre(text[i+1])]\n",
    "                tentative[indicelettre(text[i])][indicelettre(text[i+1])]=tentative[indicelettre(text[i])][indicelettre(text[i+1])]+1\n",
    "    return score/tentative"
   ]
  },
  {
   "cell_type": "code",
   "execution_count": 413,
   "id": "threaded-scout",
   "metadata": {},
   "outputs": [
    {
     "name": "stderr",
     "output_type": "stream",
     "text": [
      "C:\\Users\\Aida TALIH\\Anaconda3\\lib\\site-packages\\ipykernel_launcher.py:16: RuntimeWarning: invalid value encountered in true_divide\n",
      "  app.launch_new_instance()\n"
     ]
    }
   ],
   "source": [
    "fraction_G=fraction_global(out2)"
   ]
  },
  {
   "cell_type": "markdown",
   "id": "comparative-porter",
   "metadata": {},
   "source": [
    "### Etape 3 : Modélisation du texte avec un modèle de Markov d’ordre suppérieur :"
   ]
  },
  {
   "cell_type": "code",
   "execution_count": 404,
   "id": "suffering-transmission",
   "metadata": {},
   "outputs": [],
   "source": [
    "def indicelettre_partie3(lettre):\n",
    "    return ord(lettre)-97"
   ]
  },
  {
   "cell_type": "code",
   "execution_count": 405,
   "id": "muslim-examination",
   "metadata": {},
   "outputs": [],
   "source": [
    "def incrementer_partie3(text):\n",
    "    matrice=np.zeros((26,26,26,26))\n",
    "    for i in range(0,len(text)-3):\n",
    "        matrice[indicelettre_partie3(text[i])][indicelettre_partie3(text[i+1])][indicelettre_partie3(text[i+2])][indicelettre_partie3(text[i+3])]+=1\n",
    "    return matrice  "
   ]
  },
  {
   "cell_type": "code",
   "execution_count": 414,
   "id": "electrical-pricing",
   "metadata": {},
   "outputs": [],
   "source": [
    "matrice_transition=incrementer_partie3(out3)"
   ]
  },
  {
   "cell_type": "markdown",
   "id": "referenced-scoop",
   "metadata": {},
   "source": [
    "### Etape 4 : Modélisation du texte comme succession de mots:"
   ]
  },
  {
   "cell_type": "code",
   "execution_count": 415,
   "id": "random-egyptian",
   "metadata": {},
   "outputs": [],
   "source": [
    "def indice_mot(text,mot):\n",
    "    text1=text.split()\n",
    "    liste=list(set(text1))\n",
    "    return liste.index(mot)"
   ]
  },
  {
   "cell_type": "code",
   "execution_count": 416,
   "id": "advance-chapel",
   "metadata": {},
   "outputs": [],
   "source": [
    "def incrementer_mot(text):\n",
    "    text1=text.split()\n",
    "    liste=set(text1)\n",
    "    matrice=np.zeros((len(liste),len(liste)))\n",
    "    for i in range(0,len(text1)-1):\n",
    "        matrice[indice_mot(text,text1[i])][indice_mot(text,text1[i+1])]+=1\n",
    "    return matrice "
   ]
  },
  {
   "cell_type": "code",
   "execution_count": 417,
   "id": "waiting-stake",
   "metadata": {},
   "outputs": [],
   "source": [
    "def matrice_probabilite_mot(out):\n",
    "    m=incrementer_mot(out)\n",
    "    comp=addition(m)\n",
    "    p=np.zeros((len(m),len(m)))\n",
    "    for i in range(len(m)):\n",
    "        for j in range(len(m)):\n",
    "            p[i][j]=m[i][j]/comp[i]\n",
    "    return p"
   ]
  },
  {
   "cell_type": "markdown",
   "id": "metric-purchase",
   "metadata": {},
   "source": [
    "### Etape 5 : Génération de texte avec un modèle de Markov:"
   ]
  },
  {
   "cell_type": "code",
   "execution_count": 418,
   "id": "annual-shakespeare",
   "metadata": {},
   "outputs": [],
   "source": [
    "import random\n",
    "def uniforme():\n",
    "    return random.random()"
   ]
  },
  {
   "cell_type": "code",
   "execution_count": 419,
   "id": "fatal-appreciation",
   "metadata": {},
   "outputs": [],
   "source": [
    "def Generateur_text(t):\n",
    "    p=matrice_probabilite_mot(t)\n",
    "    text1=t.split()\n",
    "    liste=list(set(text1))\n",
    "    m=incrementer_mot(t)\n",
    "    ligne_proba=random.randint(0,len(p)-1)\n",
    "    F=np.cumsum(p[ligne_proba])\n",
    "    unif=uniforme()\n",
    "    text_final=\"\"\n",
    "    for k in range(0,len(text1)):\n",
    "        for i in range(0,len(F)):\n",
    "            if(unif<=F[i]):\n",
    "                text_final=text_final+\" \"+liste[i]\n",
    "                j=i\n",
    "                break\n",
    "        F=np.cumsum(p[j])\n",
    "        unif=uniforme()\n",
    "    return text_final"
   ]
  },
  {
   "cell_type": "code",
   "execution_count": 420,
   "id": "angry-photographer",
   "metadata": {},
   "outputs": [
    {
     "name": "stdout",
     "output_type": "stream",
     "text": [
      "Le texte généré:\n",
      "\n",
      " des liens espaces de rfrence ou darticles de football de widad tmara qui a t faite le centre de bienfaisance rgie par le centre de widad tmara le quartier principalement rsidentiel et de larrondissement agdalryad notes et holcim maroc rgion rabatsalknitra ville rabat sal vous pouvez partager vos connaissances en cas de rfrencesliste complte portailarchitecture et de qualit traitant du complexe sportif moulayabdallah galeries photos modifier le code rabat plusieurs entreprises marocaines et dimmeubles de complter larticle en pratique quelles sources hay ryad wikipdia lencyclopdie libre cet article manquant de football y sont aussi domicilis tels que la fdration royale marocaine de rabat capitale du complexe sportif moulayabdallah galeries photos modifier le code voir lhistorique plus de noms article discussion contributions crer un article manquant de plusieurs ministres et urbanismearticles lis portailmarocarticles lis portailmonde arabearticles lis portailmarocarticles lis portailmarocarticles lis portailmonde arabearticles lis la section notes et internationales y sont disponibles sous licence creative commons attribution partage dans les tmoins cookies\n"
     ]
    },
    {
     "name": "stderr",
     "output_type": "stream",
     "text": [
      "C:\\Users\\Aida TALIH\\Anaconda3\\lib\\site-packages\\ipykernel_launcher.py:7: RuntimeWarning: invalid value encountered in double_scalars\n",
      "  import sys\n"
     ]
    }
   ],
   "source": [
    "print(\"Le texte généré:\\n\")\n",
    "print(Generateur_text(out2))"
   ]
  },
  {
   "cell_type": "code",
   "execution_count": null,
   "id": "musical-still",
   "metadata": {},
   "outputs": [],
   "source": []
  }
 ],
 "metadata": {
  "kernelspec": {
   "display_name": "Python 3",
   "language": "python",
   "name": "python3"
  },
  "language_info": {
   "codemirror_mode": {
    "name": "ipython",
    "version": 3
   },
   "file_extension": ".py",
   "mimetype": "text/x-python",
   "name": "python",
   "nbconvert_exporter": "python",
   "pygments_lexer": "ipython3",
   "version": "3.7.3"
  }
 },
 "nbformat": 4,
 "nbformat_minor": 5
}
